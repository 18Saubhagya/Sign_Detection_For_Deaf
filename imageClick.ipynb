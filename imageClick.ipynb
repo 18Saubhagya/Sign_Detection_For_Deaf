{
 "cells": [
  {
   "cell_type": "code",
   "execution_count": 24,
   "metadata": {},
   "outputs": [],
   "source": [
    "import cv2\n",
    "import time\n",
    "import uuid\n",
    "import os"
   ]
  },
  {
   "cell_type": "code",
   "execution_count": 25,
   "metadata": {},
   "outputs": [],
   "source": [
    "iapth='Tensorflow/workspace/images/collectedimages'"
   ]
  },
  {
   "cell_type": "code",
   "execution_count": 26,
   "metadata": {},
   "outputs": [],
   "source": [
    "labels = ['F']\n",
    "nimg=11"
   ]
  },
  {
   "cell_type": "code",
   "execution_count": 27,
   "metadata": {},
   "outputs": [
    {
     "name": "stdout",
     "output_type": "stream",
     "text": [
      "E clicking\n"
     ]
    }
   ],
   "source": [
    "for label in labels:\n",
    "    !mkdir {'Tensorflow\\workspace\\images\\collectedimages\\\\'+label}\n",
    "    cap=cv2.VideoCapture(0)\n",
    "    cap.grab()\n",
    "    cap.set(3,1920)\n",
    "    cap.set(4,1080)\n",
    "    if cap.isOpened():\n",
    "      print(label+\" clicking\")\n",
    "    time.sleep(6)\n",
    "\n",
    "    for imgnum in range(nimg):\n",
    "      time.sleep(3)\n",
    "      ret, frame=cap.read()\n",
    "      imgna=os.path.join(iapth,label,label+'.'+'{}.jpg'.format(str(uuid.uuid1())))\n",
    "      cv2.imshow('frame',frame)\n",
    "      cv2.imwrite(imgna,frame)\n",
    "\n",
    "      if cv2.waitKey(1) & 0xFF == ord('q'):\n",
    "        break\n",
    "    cap.release()\n",
    "    cv2.destroyAllWindows()"
   ]
  }
 ],
 "metadata": {
  "interpreter": {
   "hash": "45a1f512c32800d21453e6ef5e756f057177e8c39815e3152e39e7190f437837"
  },
  "kernelspec": {
   "display_name": "Python 3.8.5 64-bit",
   "name": "python3"
  },
  "language_info": {
   "codemirror_mode": {
    "name": "ipython",
    "version": 3
   },
   "file_extension": ".py",
   "mimetype": "text/x-python",
   "name": "python",
   "nbconvert_exporter": "python",
   "pygments_lexer": "ipython3",
   "version": "3.8.5"
  }
 },
 "nbformat": 4,
 "nbformat_minor": 2
}
