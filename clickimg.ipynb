{
 "cells": [
  {
   "cell_type": "code",
   "execution_count": 1,
   "metadata": {},
   "outputs": [],
   "source": [
    "import cv2\n",
    "import time\n",
    "import uuid\n",
    "import os\n",
    "iapth='Tensorflow/workspace/images/collectedimages'\n",
    "\n",
    "labels = ['A','B','C','D','E','F','G','H','I','J','K','L','M','N','O','P','Q','R','S','T','U','V','W','X','Y','Z']\n",
    "nimg=20"
   ]
  },
  {
   "cell_type": "code",
   "execution_count": null,
   "metadata": {},
   "outputs": [],
   "source": [
    "patho = os.chdir(\"C:\\\\Users\\\\Acer\\\\Desktop\\\\Images_Used\\\\data\\\\Gesture Image Data\")\n",
    "pathox=\"C:\\\\Users\\\\Acer\\\\Desktop\\\\Images_Used\\\\data\\\\Gesture Image Data\"\n",
    "for file in os.listdir(patho):\n",
    "    new_path=pathox+\"\\\\\"+file\n",
    "    new_patho=os.chdir(new_path)\n",
    "    i=0\n",
    "    for files in os.listdir(new_patho):\n",
    "        nf=\"{}-\".format(file)+\"{}.jpg\".format(i)\n",
    "        os.rename(files,nf)\n",
    "        i=i+1"
   ]
  },
  {
   "cell_type": "code",
   "execution_count": null,
   "metadata": {},
   "outputs": [],
   "source": [
    "dest=\"C:\\\\Users\\\\Acer\\\\Desktop\\\\Hand_Gesture_Recognition_Sign_Detection\\\\Tensorflow\\\\workspace\\\\images\\\\collectedimages\"\n",
    "patho = os.chdir(\"C:\\\\Users\\\\Acer\\\\Desktop\\\\Images_Used\\\\data\\\\Gesture Image Data\")\n",
    "pathox=\"C:\\\\Users\\\\Acer\\\\Desktop\\\\Images_Used\\\\data\\\\Gesture Image Data\"\n",
    "for file in os.listdir(patho):\n",
    "    new_path=pathox+\"\\\\\"+file\n",
    "    new_patho=os.chdir(new_path)\n",
    "    i=0\n",
    "    for files in os.listdir(new_patho):\n",
    "        if i>29:\n",
    "            break\n",
    "        os.rename(new_path+\"\\\\\"+files,dest+\"\\\\\"+files)\n",
    "        i=i+1"
   ]
  },
  {
   "cell_type": "code",
   "execution_count": 54,
   "metadata": {},
   "outputs": [
    {
     "name": "stdout",
     "output_type": "stream",
     "text": [
      "Z clicking\n"
     ]
    }
   ],
   "source": [
    "for label in labels:\n",
    "    !mkdir {'Tensorflow\\workspace\\images\\collectedimages\\\\'+label}\n",
    "    cap=cv2.VideoCapture(0)\n",
    "    cap.grab()\n",
    "    cap.set(3,1920)\n",
    "    cap.set(4,1080)\n",
    "    if cap.isOpened():\n",
    "      print(label+\" clicking\")\n",
    "    time.sleep(6)\n",
    "\n",
    "    for imgnum in range(nimg):\n",
    "      time.sleep(2)\n",
    "      ret, frame=cap.read()\n",
    "      imgna=os.path.join(iapth,label,label+'.'+'{}.jpg'.format(str(uuid.uuid1())))\n",
    "      cv2.imshow('frame',frame)\n",
    "      cv2.imwrite(imgna,frame)\n",
    "\n",
    "      if cv2.waitKey(1) & 0xFF == ord('q'):\n",
    "        break\n",
    "    cap.release()\n",
    "    cv2.destroyAllWindows()"
   ]
  }
 ],
 "metadata": {
  "interpreter": {
   "hash": "45a1f512c32800d21453e6ef5e756f057177e8c39815e3152e39e7190f437837"
  },
  "kernelspec": {
   "display_name": "Python 3.8.5 64-bit",
   "name": "python3"
  },
  "language_info": {
   "codemirror_mode": {
    "name": "ipython",
    "version": 3
   },
   "file_extension": ".py",
   "mimetype": "text/x-python",
   "name": "python",
   "nbconvert_exporter": "python",
   "pygments_lexer": "ipython3",
   "version": "3.8.5"
  }
 },
 "nbformat": 4,
 "nbformat_minor": 2
}
